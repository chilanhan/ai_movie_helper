{
 "cells": [
  {
   "cell_type": "code",
   "execution_count": 5,
   "id": "7d4b6b1d",
   "metadata": {},
   "outputs": [
    {
     "name": "stdout",
     "output_type": "stream",
     "text": [
      "https://movies.yahoo.com.tw/i/o/production/movies/October2021/MSRbo2ocgQ6N9DdzBUk0-1434x2048.jpg\n",
      "https://movies.yahoo.com.tw/i/o/production/movies/September2021/TTCKsEtwfgRx6rs4z5yN-765x1080.jpg\n",
      "https://movies.yahoo.com.tw/i/o/production/movies/August2021/Twk5fKm9SF4aXKj19sG1-1984x2835.jpg\n",
      "https://movies.yahoo.com.tw/i/o/production/movies/October2021/MONfWpYqXs3Ox5crIwmY-757x1080.jpg\n",
      "https://movies.yahoo.com.tw/i/o/production/movies/October2021/iIK9ubPaTTbzhOE6d3CZ-1280x1846.jpg\n",
      "https://movies.yahoo.com.tw/i/o/production/movies/October2021/m0mNRkleImdyjaaa54Xg-493x704.jpg\n",
      "https://movies.yahoo.com.tw/i/o/production/movies/November2021/yaIHlK4BPD1T6Hd7d40n-1080x1543.jpg\n",
      "https://movies.yahoo.com.tw/i/o/production/movies/August2021/wNv505axVffZFP9PmoSP-2990x4266.jpg\n",
      "https://movies.yahoo.com.tw/i/o/production/movies/September2021/RYnOXNOxLnAxdOVQgxVN-1000x1428.jpg\n",
      "https://movies.yahoo.com.tw/i/o/production/movies/October2021/pSn0q9HDYnXe4FbgaLiQ-1200x1713.jpg\n",
      "https://movies.yahoo.com.tw/i/o/production/movies/September2021/N8kcUs4tj3YXCvQ5cfO6-749x1080.jpg\n",
      "無圖片\n",
      "https://movies.yahoo.com.tw/i/o/production/movies/October2021/VaJVqWg6b0PQoAGevu0j-1050x1500.JPG\n",
      "https://movies.yahoo.com.tw/i/o/production/movies/August2021/eohNrofyoefyoFWzrzYz-1551x2213.jpg\n",
      "https://movies.yahoo.com.tw/i/o/production/movies/October2021/eHkRcsdFCSXfRc5uJcpn-1280x1797.jpg\n",
      "https://movies.yahoo.com.tw/i/o/production/movies/October2021/02I7VYfAWDZgca4P9E00-1080x1611.jpg\n",
      "https://movies.yahoo.com.tw/i/o/production/movies/October2021/v8lYMv5H1HTk4sQUYYpR-756x1080.jpg\n",
      "https://movies.yahoo.com.tw/i/o/production/movies/October2021/A5jA8r8iKoaegHvSvLUx-427x603.jpg\n",
      "https://s.yimg.com/vu/movies/fp/mpost/26/10/2610.jpg\n",
      "https://movies.yahoo.com.tw/i/o/production/movies/October2021/4rd1v5p3dZDAKIpC7IqY-1080x1542.jpg\n"
     ]
    }
   ],
   "source": [
    "import requests\n",
    "import bs4\n",
    "import requests, bs4\n",
    "\n",
    "total_img_link=[]\n",
    "with open('yahoo_movie.csv','r',encoding='utf-8-sig')  as f:\n",
    "    result=f.readlines()\n",
    "    \n",
    "for i in range(1,len(result)):\n",
    "    try:\n",
    "        movie_url=result[i].split(',')[2]\n",
    "        #print(movie_url)\n",
    "        moviehtml = requests.get(movie_url)\n",
    "        objSoup = bs4.BeautifulSoup(moviehtml.text, 'lxml') \n",
    "        movie_img_link=objSoup.select(\"div.movie_intro_foto\")[0].find(\"img\").get(\"src\")\n",
    "        print(movie_img_link)\n",
    "        total_img_link.append(movie_img_link)\n",
    "    except:\n",
    "        movie_img_link='https://www.portent.com/images/2020/07/404-Error-Image.jpg'\n",
    "        total_img_link.append(movie_img_link)\n",
    "        print('無圖片')\n",
    "        \n",
    "\n",
    "        "
   ]
  },
  {
   "cell_type": "code",
   "execution_count": null,
   "id": "4118816e",
   "metadata": {},
   "outputs": [],
   "source": []
  }
 ],
 "metadata": {
  "kernelspec": {
   "display_name": "Python 3",
   "language": "python",
   "name": "python3"
  },
  "language_info": {
   "codemirror_mode": {
    "name": "ipython",
    "version": 3
   },
   "file_extension": ".py",
   "mimetype": "text/x-python",
   "name": "python",
   "nbconvert_exporter": "python",
   "pygments_lexer": "ipython3",
   "version": "3.8.8"
  }
 },
 "nbformat": 4,
 "nbformat_minor": 5
}
