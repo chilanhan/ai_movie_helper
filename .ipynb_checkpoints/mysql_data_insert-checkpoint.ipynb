{
 "cells": [
  {
   "cell_type": "code",
   "execution_count": 3,
   "id": "197cc135",
   "metadata": {},
   "outputs": [
    {
     "name": "stdout",
     "output_type": "stream",
     "text": [
      "successfully connected\n"
     ]
    }
   ],
   "source": [
    "#insert movie_info table\n",
    "# CREATE TABLE `movie_info` (\n",
    "#   `mid` int NOT NULL,\n",
    "#   `mname` varchar(45) DEFAULT NULL,\n",
    "#   `mtype` varchar(45) DEFAULT NULL,\n",
    "#   `mcontent` longtext,\n",
    "#   PRIMARY KEY (`mid`)\n",
    "# ) ENGINE=InnoDB DEFAULT CHARSET=utf8mb4 COLLATE=utf8mb4_0900_ai_ci\n",
    "\n",
    "\n",
    "import pymysql\n",
    "import csv\n",
    "mid=-1\n",
    "movie_list=[]\n",
    "with open('movie2021 (1).csv',encoding='utf-8') as csvfile:\n",
    "    rows=csv.reader(csvfile)\n",
    "    \n",
    "    for row in rows:\n",
    "        mid+=1\n",
    "        row.insert(0,mid)\n",
    "        movie_list.append(row)\n",
    "config = {\n",
    "        'host': 'localhost',\n",
    "        'port': 3306,\n",
    "        'user': 'root',\n",
    "        'passwd': '!Qqaz2wsx',\n",
    "        'db': 'try',\n",
    "        'charset': 'utf8mb4',\n",
    "        'local_infile': 1\n",
    "\n",
    "    }\n",
    "conn = pymysql.connect(**config)\n",
    "print('successfully connected')\n",
    "\n",
    "cur = conn.cursor()\n",
    "\n",
    "for i in range(7,115):\n",
    "    insert_user_sql=\"insert into movie_info (mid,mname,mtype,mcontent) values ({},'{}','{}' ,'{}' )\".format(movie_list[i][0],movie_list[i][1],movie_list[i][2],movie_list[i][3])\n",
    "    cur.execute(insert_user_sql)\n",
    "    conn.commit()\n",
    "cur.close() \n",
    "conn.close()"
   ]
  },
  {
   "cell_type": "code",
   "execution_count": null,
   "id": "5ed848d7",
   "metadata": {},
   "outputs": [],
   "source": []
  }
 ],
 "metadata": {
  "kernelspec": {
   "display_name": "Python 3",
   "language": "python",
   "name": "python3"
  },
  "language_info": {
   "codemirror_mode": {
    "name": "ipython",
    "version": 3
   },
   "file_extension": ".py",
   "mimetype": "text/x-python",
   "name": "python",
   "nbconvert_exporter": "python",
   "pygments_lexer": "ipython3",
   "version": "3.8.8"
  }
 },
 "nbformat": 4,
 "nbformat_minor": 5
}
